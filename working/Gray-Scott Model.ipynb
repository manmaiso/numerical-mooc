{
 "cells": [
  {
   "cell_type": "markdown",
   "metadata": {},
   "source": [
    "VANDEN BROECK Grégory $$$$ MAISONNIER Manon"
   ]
  },
  {
   "cell_type": "markdown",
   "metadata": {},
   "source": [
    "# GRAY-SCOTT MODEL"
   ]
  },
  {
   "cell_type": "markdown",
   "metadata": {},
   "source": [
    "$$\\frac{\\partial{u}}{\\partial{t}}=D_u \\nabla^2 u  - uv^2 + F (1-u)$$ \n",
    "\n",
    "$$\\frac{\\partial{v}}{\\partial{t}}=D_v \\nabla^2 v  + uv^2 - (F+k) v $$\n",
    "\n",
    "\n",
    "1°  Il y a un ajout constant de particule u dans le système.\n",
    "\n",
    "2°  Si deux particules v rencontre une particule u, la particule u \"devient\" une particule v:  2v + u -> 3v.\n",
    "\n",
    "3°  Il y a un prélevement de particules v conctant du système.\n",
    "\n",
    "\n",
    "\"Forward-time central-space\" dérivation avec $\\Delta{x}=\\delta=\\Delta{y}$:\n",
    "\n",
    "$$u^{n+1}_{i,j}=u^{n}_{i,j}+\\Delta{t} \\big[\\frac{D_u}{\\delta^2}(u^{n}_{i+1,j}+u^{n}_{i-1,j}-4u^{n}_{i,j}+u^{n}_{i,j+1}+u^{n}_{i,j-1}) - u^{n}_{i,j} {v^{n}_{i,j}}^2 +  F (1-u^{n}_{i,j}) \\big]$$\n",
    "\n",
    "$$v^{n+1}_{i,j}=v^{n}_{i,j}+\\Delta{t} \\big[\\frac{D_v}{\\delta^2}(v^{n}_{i+1,j}+v^{n}_{i-1,j}-4v^{n}_{i,j}+v^{n}_{i,j+1}+v^{n}_{i,j-1}) + u^{n}_{i,j} {v^{n}_{i,j}}^2 -  (F+k) v^{n}_{i,j} \\big]$$\n"
   ]
  },
  {
   "cell_type": "code",
   "execution_count": 23,
   "metadata": {
    "collapsed": true
   },
   "outputs": [],
   "source": [
    "import numpy\n",
    "from matplotlib import pyplot\n",
    "%matplotlib inline\n",
    "from matplotlib import rcParams, cm\n",
    "rcParams['font.family'] = 'serif'\n",
    "rcParams['font.size'] = 16"
   ]
  },
  {
   "cell_type": "markdown",
   "metadata": {},
   "source": [
    "Valeurs initiales:"
   ]
  },
  {
   "cell_type": "code",
   "execution_count": 24,
   "metadata": {
    "collapsed": false
   },
   "outputs": [],
   "source": [
    "uvinitial = numpy.load('C:/Users/DELL3540/uvinitial.npz')\n",
    "U = uvinitial['U']\n",
    "V = uvinitial['V']\n"
   ]
  },
  {
   "cell_type": "markdown",
   "metadata": {},
   "source": [
    "Fonction qui fait les itérations jusqu'au temps t (auquel correspond nt) et nous revois (u,v) au temps t :"
   ]
  },
  {
   "cell_type": "code",
   "execution_count": 25,
   "metadata": {
    "collapsed": true
   },
   "outputs": [],
   "source": [
    "def fct(T, nt, Du, Dv, F, k, dt, d):\n",
    "    \"\"\"\n",
    "    fct nous renvois le vecteur (u,v) au temps t\n",
    "    \n",
    "    T est le vecteur (u,v).\n",
    "    nt est le nombre d'itération dans le temps que l'on fait.\n",
    "    Du,Dv,F et k sont des constantes lié au système.\n",
    "    dt vaut le temps écoulé entre deux itérations dans le temps.\n",
    "    d est la distance qui sépare deux points de l'espace de long de x ou y une foi celui-ci discretisé.\n",
    "    \"\"\"\n",
    "    for n in range (nt):\n",
    "        Tn = T.copy()\n",
    "        T[0,1:-1,1:-1] = Tn[0,1:-1,1:-1]+dt*((Du/(d*d))*(Tn[0,2:,1:-1]+Tn[0,:-2,1:-1]-4*Tn[0,1:-1,1:-1]+Tn[0,1:-1,2:]+Tn[0,1:-1,:-2])-Tn[0,1:-1,1:-1]*Tn[1,1:-1,1:-1]*Tn[1,1:-1,1:-1]+F*(1-Tn[0,1:-1,1:-1]))\n",
    "        T[1,1:-1,1:-1] = Tn[1,1:-1,1:-1]+dt*((Dv/(d*d))*(Tn[1,2:,1:-1]+Tn[1,:-2,1:-1]-4*Tn[1,1:-1,1:-1]+Tn[1,1:-1,2:]+Tn[1,1:-1,:-2])+Tn[0,1:-1,1:-1]*Tn[1,1:-1,1:-1]*Tn[1,1:-1,1:-1]-(F+k)*Tn[1,1:-1,1:-1])\n",
    "        \n",
    "        #Condition aux bords de Neumann (avec qx=0=qy)\n",
    "        T[:,0,:] = T[:,1,:]\n",
    "        T[:,-1,:] = T[:,-2,:]\n",
    "        T[:,:,0] = T[:,:,1]\n",
    "        T[:,:,-1]=T[:,:,-2]\n",
    "        \n",
    "    return T\n",
    "        "
   ]
  },
  {
   "cell_type": "markdown",
   "metadata": {},
   "source": [
    "Les donées:"
   ]
  },
  {
   "cell_type": "code",
   "execution_count": 26,
   "metadata": {
    "collapsed": false
   },
   "outputs": [],
   "source": [
    "n = 192\n",
    "Du = 0.00016\n",
    "Dv = 0.00008\n",
    "F = 0.035\n",
    "k = 0.065 \n",
    "L = 5.\n",
    "d = 5./(n-1)\n",
    "t = 8000\n",
    "dt = .9*d*d/(4*(max(Du,Dv)))\n",
    "nt = int(t/dt)"
   ]
  },
  {
   "cell_type": "markdown",
   "metadata": {},
   "source": [
    "Créations du vecteur (u,v) initial:"
   ]
  },
  {
   "cell_type": "code",
   "execution_count": 27,
   "metadata": {
    "collapsed": false
   },
   "outputs": [],
   "source": [
    "\n",
    "Ti = numpy.empty([2,n,n])\n",
    "Ti[0,:,:]=U[:,:]\n",
    "Ti[1,:,:]=V[:,:]\n"
   ]
  },
  {
   "cell_type": "markdown",
   "metadata": {},
   "source": [
    "Appliquons la fonction à notre système:"
   ]
  },
  {
   "cell_type": "code",
   "execution_count": 29,
   "metadata": {
    "collapsed": false
   },
   "outputs": [],
   "source": [
    "T = fct(Ti.copy(), nt, Du, Dv, F, k, dt, d)"
   ]
  },
  {
   "cell_type": "markdown",
   "metadata": {},
   "source": [
    "Valeurs demandées :"
   ]
  },
  {
   "cell_type": "code",
   "execution_count": 30,
   "metadata": {
    "collapsed": false
   },
   "outputs": [
    {
     "data": {
      "text/plain": [
       "array([ 0.92469521,  0.85013834,  0.66815621,  0.90196481,  0.9039502 ])"
      ]
     },
     "execution_count": 30,
     "metadata": {},
     "output_type": "execute_result"
    }
   ],
   "source": [
    "T[0,100,::40]"
   ]
  },
  {
   "cell_type": "code",
   "execution_count": null,
   "metadata": {
    "collapsed": true
   },
   "outputs": [],
   "source": []
  }
 ],
 "metadata": {
  "kernelspec": {
   "display_name": "Python 3",
   "language": "python",
   "name": "python3"
  },
  "language_info": {
   "codemirror_mode": {
    "name": "ipython",
    "version": 3
   },
   "file_extension": ".py",
   "mimetype": "text/x-python",
   "name": "python",
   "nbconvert_exporter": "python",
   "pygments_lexer": "ipython3",
   "version": "3.5.1"
  }
 },
 "nbformat": 4,
 "nbformat_minor": 0
}
