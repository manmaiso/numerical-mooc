{
 "cells": [
  {
   "cell_type": "markdown",
   "metadata": {},
   "source": [
    "# Trafic Flow"
   ]
  },
  {
   "cell_type": "code",
   "execution_count": null,
   "metadata": {
    "collapsed": true
   },
   "outputs": [],
   "source": [
    "import numpy                       \n",
    "from matplotlib import pyplot                 \n",
    "%matplotlib inline\n",
    "from matplotlib import rcParams\n",
    "rcParams['font.family'] = 'serif'\n",
    "rcParams['font.size'] = 16"
   ]
  },
  {
   "cell_type": "markdown",
   "metadata": {},
   "source": [
    "## Introduction"
   ]
  },
  {
   "cell_type": "markdown",
   "metadata": {},
   "source": [
    "Soit un tronçon de route de longueur L.  Nous pouvons lui associé une densité $\\rho$ de voiture (voiture/km) qui dépend de la position et du moment.\n",
    "\n",
    "Disons que nous connaissons la vitesse maximale que les voitures peuvent avoir ainsi que la densité maximale de voiture sur ce morceau de route.  Alors, nous pouvons supposer que la vitesse des voitures est donnée par: $V=V_{max}(1-\\frac{\\rho}{\\rho_{max}})$.\n",
    "\n",
    "Définissons le flux $F$:  $$F=V\\rho$$ \n",
    "$$\\Rightarrow \\frac{dF}{d\\rho}=V$$\n",
    "\n",
    "Comme $V$ dépend du temps et de la position, voici l'equation de convection non linéaire de V: $\\frac{dV}{dt}+V\\frac{dV}{dx}=0$.\n",
    "\n",
    "$$\\Rightarrow \\frac{dV}{dt}+\\frac{dF}{d\\rho}\\frac{dV}{dx}=0  \\Leftrightarrow \\frac{d\\rho}{dt}+\\frac{dF}{d\\rho}\\frac{d\\rho}{dx}=0 $$\n",
    "\n",
    "Si nous discretisons le problème dans le temps et l'espace, que nous definissons $\\rho$ au temps t=0s et en tout points de l'espace considérés, et que nous imposons une valeur pour $rho(x=0)$ à tout instant t, alors on peut trouve pas à pas dans le temps les rho pour tous les points de l'espace considéres grace à la dérivée-devant dans le temps et la dérivée-derrière dans l'espace.\n",
    "\n"
   ]
  },
  {
   "cell_type": "markdown",
   "metadata": {},
   "source": [
    "Définissons un vecteur qui représentera la vitesse en chaque point de l'espace considéré à un instant donné."
   ]
  },
  {
   "cell_type": "code",
   "execution_count": 2,
   "metadata": {
    "collapsed": false
   },
   "outputs": [],
   "source": [
    "nx=51\n",
    "V=numpy.empty(nx)"
   ]
  },
  {
   "cell_type": "markdown",
   "metadata": {
    "collapsed": true
   },
   "source": [
    "Ici nous créons une fonction (magique, d'ou le nom) qui nous renvois V la vitesse en chaque points de l'espace en fonction du temps t (=moment que l'on observe), de la condition aux bords sur la densité C0 et la vitesse maximum autorisé V_max."
   ]
  },
  {
   "cell_type": "code",
   "execution_count": 3,
   "metadata": {
    "collapsed": false
   },
   "outputs": [],
   "source": [
    "def bibidi(C0,t,V_max):\n",
    "    #données\n",
    "    L=11\n",
    "    rho_max=250\n",
    "    dt=.001\n",
    "    nt=int((t/dt)+1)\n",
    "    dx= L/(nx-1)\n",
    "    d=dt/dx\n",
    "    #On définit rho et ses valeurs initiales\n",
    "    rho=numpy.empty((nt,nx))\n",
    "    rho0 = numpy.ones(nx)*C0\n",
    "    rho0[10:20] = 50\n",
    "    if t is 0 :\n",
    "        V[:]=V_max*(1-rho0[:]/rho_max)\n",
    "    else:\n",
    "    #On fait les itérations temporelles\n",
    "        for n in range(1,nt):  \n",
    "            un = rho0.copy()\n",
    "            F=V_max*un[:]*(1-un[:]/rho_max)\n",
    "            rho0[1:] = un[1:]-d*(F[1:]-F[0:-1])\n",
    "            rho0[0] = C0  #Condition aux bords\n",
    "            rho[n,:]=rho0[:]\n",
    "        V[:]=V_max*(1-rho[nt-1,:]/rho_max)\n",
    "    return V[:]"
   ]
  },
  {
   "cell_type": "markdown",
   "metadata": {},
   "source": [
    "## PARTIE A:"
   ]
  },
  {
   "cell_type": "markdown",
   "metadata": {},
   "source": [
    "Données:"
   ]
  },
  {
   "cell_type": "code",
   "execution_count": 4,
   "metadata": {
    "collapsed": true
   },
   "outputs": [],
   "source": [
    "C0=10.\n",
    "\n",
    "V_max=80"
   ]
  },
  {
   "cell_type": "markdown",
   "metadata": {},
   "source": [
    "Question 1:"
   ]
  },
  {
   "cell_type": "code",
   "execution_count": 5,
   "metadata": {
    "collapsed": false
   },
   "outputs": [
    {
     "name": "stdout",
     "output_type": "stream",
     "text": [
      "17.78 m/s\n"
     ]
    }
   ],
   "source": [
    "t=0\n",
    "\n",
    "\n",
    "bibidi(C0,t,V_max)\n",
    "\n",
    "\n",
    "print(round(min(V[:])*10/36,2), \"m/s\")\n"
   ]
  },
  {
   "cell_type": "markdown",
   "metadata": {},
   "source": [
    "Question 2:"
   ]
  },
  {
   "cell_type": "code",
   "execution_count": 6,
   "metadata": {
    "collapsed": false
   },
   "outputs": [
    {
     "name": "stdout",
     "output_type": "stream",
     "text": [
      "20.64 m/s\n"
     ]
    }
   ],
   "source": [
    "t=3/60\n",
    "\n",
    "bibidi(C0,t,V_max)\n",
    "\n",
    "print (round(numpy.mean(V[:])*10/36,2), \"m/s\")"
   ]
  },
  {
   "cell_type": "markdown",
   "metadata": {},
   "source": [
    "Question 3:"
   ]
  },
  {
   "cell_type": "code",
   "execution_count": 7,
   "metadata": {
    "collapsed": false
   },
   "outputs": [
    {
     "name": "stdout",
     "output_type": "stream",
     "text": [
      "18.78 m/s\n"
     ]
    }
   ],
   "source": [
    "t=6/60\n",
    "\n",
    "bibidi(C0,t,V_max)\n",
    "\n",
    "print(round(min(V[:])*10/36,2), \"m/s\")"
   ]
  },
  {
   "cell_type": "markdown",
   "metadata": {},
   "source": [
    "## Partie B"
   ]
  },
  {
   "cell_type": "markdown",
   "metadata": {},
   "source": [
    "Données:"
   ]
  },
  {
   "cell_type": "code",
   "execution_count": 8,
   "metadata": {
    "collapsed": true
   },
   "outputs": [],
   "source": [
    "C0=20.\n",
    "\n",
    "V_max=136"
   ]
  },
  {
   "cell_type": "markdown",
   "metadata": {},
   "source": [
    "Question 1:"
   ]
  },
  {
   "cell_type": "code",
   "execution_count": 10,
   "metadata": {
    "collapsed": false
   },
   "outputs": [
    {
     "name": "stdout",
     "output_type": "stream",
     "text": [
      "30.22 m/s\n"
     ]
    }
   ],
   "source": [
    "t=0\n",
    "\n",
    "bibidi(C0,t,V_max)\n",
    "\n",
    "print(round(min(V[:])*10/36,2), \"m/s\")"
   ]
  },
  {
   "cell_type": "markdown",
   "metadata": {},
   "source": [
    "Question 2:"
   ]
  },
  {
   "cell_type": "code",
   "execution_count": 11,
   "metadata": {
    "collapsed": false
   },
   "outputs": [
    {
     "name": "stdout",
     "output_type": "stream",
     "text": [
      "33.87 m/s\n"
     ]
    }
   ],
   "source": [
    "t=3/60\n",
    "\n",
    "bibidi(C0,t,V_max)\n",
    "\n",
    "print (round(numpy.mean(V[:])*10/36,2), \"m/s\")"
   ]
  },
  {
   "cell_type": "markdown",
   "metadata": {},
   "source": [
    "Question 3:"
   ]
  },
  {
   "cell_type": "code",
   "execution_count": 12,
   "metadata": {
    "collapsed": false
   },
   "outputs": [
    {
     "name": "stdout",
     "output_type": "stream",
     "text": [
      "30.99 m/s\n"
     ]
    }
   ],
   "source": [
    "t=3/60\n",
    "\n",
    "bibidi(C0,t,V_max)\n",
    "\n",
    "print(round(min(V[:])*10/36,2), \"m/s\")"
   ]
  }
 ],
 "metadata": {
  "kernelspec": {
   "display_name": "Python 3",
   "language": "python",
   "name": "python3"
  },
  "language_info": {
   "codemirror_mode": {
    "name": "ipython",
    "version": 3
   },
   "file_extension": ".py",
   "mimetype": "text/x-python",
   "name": "python",
   "nbconvert_exporter": "python",
   "pygments_lexer": "ipython3",
   "version": "3.5.1"
  }
 },
 "nbformat": 4,
 "nbformat_minor": 0
}
