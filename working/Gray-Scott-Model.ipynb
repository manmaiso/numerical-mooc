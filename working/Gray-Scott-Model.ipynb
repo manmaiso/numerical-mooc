{
 "cells": [
  {
   "cell_type": "markdown",
   "metadata": {},
   "source": [
    "VANDEN BROECK Grégory $$$$ MAISONNIER Manon"
   ]
  },
  {
   "cell_type": "markdown",
   "metadata": {},
   "source": [
    "$${\\color{green}{\\Huge{\\textbf{$\\fbox{GRAY-SCOTT MODEL}$}}}}$$"
   ]
  },
  {
   "cell_type": "markdown",
   "metadata": {},
   "source": [
    "$$\\frac{\\partial{u}}{\\partial{t}}=D_u \\nabla^2 u  - uv^2 + F (1-u)$$ \n",
    "\n",
    "$$\\frac{\\partial{v}}{\\partial{t}}=D_v \\nabla^2 v  + uv^2 - (F+k) v $$\n",
    "\n",
    "\n",
    "1)  Il y a un ajout constant de particules u dans le système.\n",
    "\n",
    "2)  Si deux particules v rencontrent une particule u, la particule u \"devient\" une particule v:  2v + u -> 3v.\n",
    "\n",
    "3)  Il y a un prélevement constant de particules v du système.\n",
    "\n",
    "\n",
    "\"Forward-time central-space\" dérivation avec $\\Delta{x}=\\delta=\\Delta{y}$:\n",
    "\n",
    "$$u^{n+1}_{i,j}=u^{n}_{i,j}+\\Delta{t} \\big[\\frac{D_u}{\\delta^2}(u^{n}_{i+1,j}+u^{n}_{i-1,j}-4u^{n}_{i,j}+u^{n}_{i,j+1}+u^{n}_{i,j-1}) - u^{n}_{i,j} {v^{n}_{i,j}}^2 +  F (1-u^{n}_{i,j}) \\big]$$\n",
    "\n",
    "$$v^{n+1}_{i,j}=v^{n}_{i,j}+\\Delta{t} \\big[\\frac{D_v}{\\delta^2}(v^{n}_{i+1,j}+v^{n}_{i-1,j}-4v^{n}_{i,j}+v^{n}_{i,j+1}+v^{n}_{i,j-1}) + u^{n}_{i,j} {v^{n}_{i,j}}^2 -  (F+k) v^{n}_{i,j} \\big]$$\n"
   ]
  },
  {
   "cell_type": "code",
   "execution_count": 1,
   "metadata": {
    "collapsed": true
   },
   "outputs": [],
   "source": [
    "import numpy\n",
    "from matplotlib import pyplot\n",
    "%matplotlib inline\n",
    "from matplotlib import rcParams, cm\n",
    "rcParams['font.family'] = 'serif'\n",
    "rcParams['font.size'] = 16"
   ]
  },
  {
   "cell_type": "markdown",
   "metadata": {},
   "source": [
    "$$$$$\\color{red}{\\large{\\textbf{Valeurs initiales :}}}$"
   ]
  },
  {
   "cell_type": "code",
   "execution_count": 2,
   "metadata": {
    "collapsed": false
   },
   "outputs": [],
   "source": [
    "uvinitial = numpy.load('C:/Users/Greg/uvinitial.npz')\n",
    "U = uvinitial['U']\n",
    "V = uvinitial['V']"
   ]
  },
  {
   "cell_type": "markdown",
   "metadata": {},
   "source": [
    "Fonction qui fait les itérations jusqu'au temps t (auquel correspond nt) et nous renvoie (u,v) au temps t :"
   ]
  },
  {
   "cell_type": "code",
   "execution_count": 3,
   "metadata": {
    "collapsed": true
   },
   "outputs": [],
   "source": [
    "def fct(T, nt, Du, Dv, F, k, dt, d):\n",
    "    \"\"\"\n",
    "    fonction qui nous renvoie le vecteur (u,v) au temps t\n",
    "    \n",
    "    T est le vecteur (u,v).\n",
    "    nt est le nombre d'itération dans le temps que l'on fait.\n",
    "    Du,Dv,F et k sont des constantes liées au système.\n",
    "    dt vaut le temps écoulé entre deux itérations dans le temps.\n",
    "    d est la distance qui sépare deux points de l'espace le long de x ou y une fois celui-ci discretisé.\n",
    "    \"\"\"\n",
    "    for n in range (nt):\n",
    "        Tn = T.copy()\n",
    "        T[0,1:-1,1:-1] = Tn[0,1:-1,1:-1]+dt*((Du/(d*d))*(Tn[0,2:,1:-1]+Tn[0,:-2,1:-1]-4*Tn[0,1:-1,1:-1]+Tn[0,1:-1,2:]+Tn[0,1:-1,:-2])-Tn[0,1:-1,1:-1]*Tn[1,1:-1,1:-1]*Tn[1,1:-1,1:-1]+F*(1-Tn[0,1:-1,1:-1]))\n",
    "        T[1,1:-1,1:-1] = Tn[1,1:-1,1:-1]+dt*((Dv/(d*d))*(Tn[1,2:,1:-1]+Tn[1,:-2,1:-1]-4*Tn[1,1:-1,1:-1]+Tn[1,1:-1,2:]+Tn[1,1:-1,:-2])+Tn[0,1:-1,1:-1]*Tn[1,1:-1,1:-1]*Tn[1,1:-1,1:-1]-(F+k)*Tn[1,1:-1,1:-1])\n",
    "        \n",
    "        # Conditions aux bords de Neumann (avec qx=0=qy)\n",
    "        T[:,0,:] = T[:,1,:]\n",
    "        T[:,-1,:] = T[:,-2,:]\n",
    "        T[:,:,0] = T[:,:,1]\n",
    "        T[:,:,-1] = T[:,:,-2]\n",
    "        \n",
    "    return T"
   ]
  },
  {
   "cell_type": "code",
   "execution_count": 4,
   "metadata": {
    "collapsed": false
   },
   "outputs": [],
   "source": [
    "# Les données\n",
    "n = 192\n",
    "Du = 0.00016\n",
    "Dv = 0.00008\n",
    "F = 0.035\n",
    "k = 0.065 \n",
    "L = 5.\n",
    "d = 5./(n-1)\n",
    "t = 8000\n",
    "dt = .9*d*d/(4*(max(Du,Dv)))\n",
    "nt = int(t/dt)"
   ]
  },
  {
   "cell_type": "markdown",
   "metadata": {},
   "source": [
    "Création du vecteur (u,v) initial :"
   ]
  },
  {
   "cell_type": "code",
   "execution_count": 5,
   "metadata": {
    "collapsed": false
   },
   "outputs": [],
   "source": [
    "Ti = numpy.empty([2,n,n])\n",
    "Ti[0,:,:]=U[:,:]\n",
    "Ti[1,:,:]=V[:,:]"
   ]
  },
  {
   "cell_type": "markdown",
   "metadata": {},
   "source": [
    "Appliquons la fonction à notre système :"
   ]
  },
  {
   "cell_type": "code",
   "execution_count": 6,
   "metadata": {
    "collapsed": false
   },
   "outputs": [],
   "source": [
    "T = fct(Ti.copy(), nt, Du, Dv, F, k, dt, d)"
   ]
  },
  {
   "cell_type": "markdown",
   "metadata": {},
   "source": [
    "$$$$$\\color{red}{\\large{\\textbf{Réponse aux questions :}}}$"
   ]
  },
  {
   "cell_type": "code",
   "execution_count": 9,
   "metadata": {
    "collapsed": false
   },
   "outputs": [
    {
     "data": {
      "text/plain": [
       "array([ 0.92469521,  0.85013834,  0.66815621,  0.90196481,  0.9039502 ])"
      ]
     },
     "execution_count": 9,
     "metadata": {},
     "output_type": "execute_result"
    }
   ],
   "source": [
    "T[0,100,::40]"
   ]
  },
  {
   "cell_type": "code",
   "execution_count": 7,
   "metadata": {
    "collapsed": false
   },
   "outputs": [
    {
     "name": "stdout",
     "output_type": "stream",
     "text": [
      "Le premier nombre est : 0.9247\n",
      "Le deuxième nombre est : 0.8501\n",
      "Le troisième nombre est : 0.6682\n",
      "Le quatrième nombre est : 0.902\n",
      "Le cinquième nombre est : 0.904\n"
     ]
    }
   ],
   "source": [
    "print(\"Le premier nombre est :\", round(T[0,100,::40][0],4))\n",
    "print(\"Le deuxième nombre est :\", round(T[0,100,::40][1],4))\n",
    "print(\"Le troisième nombre est :\", round(T[0,100,::40][2],4))\n",
    "print(\"Le quatrième nombre est :\", round(T[0,100,::40][3],4))\n",
    "print(\"Le cinquième nombre est :\", round(T[0,100,::40][4],4))"
   ]
  }
 ],
 "metadata": {
  "anaconda-cloud": {},
  "kernelspec": {
   "display_name": "Python [Root]",
   "language": "python",
   "name": "Python [Root]"
  },
  "language_info": {
   "codemirror_mode": {
    "name": "ipython",
    "version": 3
   },
   "file_extension": ".py",
   "mimetype": "text/x-python",
   "name": "python",
   "nbconvert_exporter": "python",
   "pygments_lexer": "ipython3",
   "version": "3.5.2"
  }
 },
 "nbformat": 4,
 "nbformat_minor": 0
}
