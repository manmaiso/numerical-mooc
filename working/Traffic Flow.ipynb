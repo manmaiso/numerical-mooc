{
 "cells": [
  {
   "cell_type": "markdown",
   "metadata": {},
   "source": [
    "# Traffic Flow #"
   ]
  },
  {
   "cell_type": "code",
   "execution_count": 1,
   "metadata": {
    "collapsed": true
   },
   "outputs": [],
   "source": [
    "import numpy                       \n",
    "from matplotlib import pyplot                 \n",
    "%matplotlib inline\n",
    "from matplotlib import rcParams\n",
    "rcParams['font.family'] = 'serif'\n",
    "rcParams['font.size'] = 16"
   ]
  },
  {
   "cell_type": "code",
   "execution_count": 2,
   "metadata": {
    "collapsed": false
   },
   "outputs": [
    {
     "data": {
      "text/plain": [
       "76.8"
      ]
     },
     "execution_count": 2,
     "metadata": {},
     "output_type": "execute_result"
    }
   ],
   "source": [
    "V_max=80.    #km/hr\n",
    "\n",
    "L=11.    #km\n",
    "\n",
    "rho_max=250.   #cars/km\n",
    "\n",
    "nx=51\n",
    "\n",
    "dt=.001 #hours\n",
    "\n",
    "T=0.1 #hours\n",
    "nt=int((T/dt) +1)\n",
    "\n",
    "dx=L/(nx-1)\n",
    "\n",
    "rho0t=10.\n",
    "\n",
    "V0t=V_max*(1-rho0t/rho_max)\n",
    "V0t"
   ]
  },
  {
   "cell_type": "code",
   "execution_count": 3,
   "metadata": {
    "collapsed": false
   },
   "outputs": [],
   "source": [
    "x = numpy.linspace(0,L,nx)  #Creation des nx-1 point de l'espace que l'on va regarder\n",
    "rhox0 = numpy.ones(nx)*10.  \n",
    "rhox0[10:20] = 50.\n",
    "# rho0 est la condition initial (cad quand t=0 ou n=0) de la densité\n",
    "\n",
    "\n",
    "\n"
   ]
  },
  {
   "cell_type": "code",
   "execution_count": 4,
   "metadata": {
    "collapsed": false
   },
   "outputs": [
    {
     "name": "stdout",
     "output_type": "stream",
     "text": [
      "[ 76.8  76.8  76.8  76.8  76.8  76.8  76.8  76.8  76.8  76.8  64.   64.\n",
      "  64.   64.   64.   64.   64.   64.   64.   64.   76.8  76.8  76.8  76.8\n",
      "  76.8  76.8  76.8  76.8  76.8  76.8  76.8  76.8  76.8  76.8  76.8  76.8\n",
      "  76.8  76.8  76.8  76.8  76.8  76.8  76.8  76.8  76.8  76.8  76.8  76.8\n",
      "  76.8  76.8  76.8]\n",
      "64.0\n"
     ]
    },
    {
     "data": {
      "text/plain": [
       "array([[ 76.8       ,  76.8       ,  76.8       , ...,  76.8       ,\n",
       "         76.8       ,  76.8       ],\n",
       "       [ 76.8       ,  76.8       ,  76.8       , ...,  76.8       ,\n",
       "         76.8       ,  76.8       ],\n",
       "       [ 76.8       ,  76.8       ,  76.8       , ...,  76.8       ,\n",
       "         76.8       ,  76.8       ],\n",
       "       ..., \n",
       "       [ 76.8       ,  76.8       ,  76.8       , ...,  68.22193812,\n",
       "         68.86890996,  69.60523934],\n",
       "       [ 76.8       ,  76.8       ,  76.8       , ...,  68.06252849,\n",
       "         68.66638158,  69.37227397],\n",
       "       [ 76.8       ,  76.8       ,  76.8       , ...,  67.92126706,\n",
       "         68.477907  ,  69.14968597]])"
      ]
     },
     "execution_count": 4,
     "metadata": {},
     "output_type": "execute_result"
    }
   ],
   "source": [
    "V = numpy.zeros((nt,nx))\n",
    "\n",
    "Vx0=V_max*(1-rhox0/rho_max)\n",
    "print(Vx0)\n",
    "\n",
    "\n",
    "for i in range (0,nx):\n",
    "    V[0,i]=Vx0[i]\n",
    "for n in range (0,nt):\n",
    "    V[n,0]=V0t\n",
    "\n",
    "for n in range(1, nt): \n",
    "    Vn = Vx0.copy() \n",
    "    Vx0[1:] = Vn[1:]-Vn[1:]*dt/dx*(Vn[1:]-Vn[0:-1]) \n",
    "    V[n,1:]=Vx0[1:]\n",
    "\n",
    "print(V[0,15])\n",
    "V"
   ]
  },
  {
   "cell_type": "code",
   "execution_count": 5,
   "metadata": {
    "collapsed": false,
    "scrolled": true
   },
   "outputs": [
    {
     "data": {
      "image/png": "[encoded data removed]",
      "text/plain": [
       "<matplotlib.figure.Figure at 0x7399da0>"
      ]
     },
     "metadata": {},
     "output_type": "display_data"
    }
   ],
   "source": [
    "for n in range(0,nt):\n",
    "    pyplot.plot(x, V[n,], color='#003366', ls='--', lw=3)\n",
    "    pyplot.ylim(0,80);"
   ]
  },
  {
   "cell_type": "code",
   "execution_count": 6,
   "metadata": {
    "collapsed": false
   },
   "outputs": [
    {
     "data": {
      "image/png": "[encoded data removed]",
      "text/plain": [
       "<matplotlib.figure.Figure at 0x7399d30>"
      ]
     },
     "metadata": {},
     "output_type": "display_data"
    }
   ],
   "source": [
    "\n",
    "pyplot.plot(x, V[90,], color='#003366', ls='--', lw=3)\n",
    "pyplot.ylim(0,80);"
   ]
  },
  {
   "cell_type": "code",
   "execution_count": 7,
   "metadata": {
    "collapsed": false
   },
   "outputs": [],
   "source": [
    "\n",
    "\n",
    "def n(t):\n",
    "    return t/dt\n",
    "\n",
    "def i(x):\n",
    "    return x/dx"
   ]
  },
  {
   "cell_type": "code",
   "execution_count": 8,
   "metadata": {
    "collapsed": false
   },
   "outputs": [
    {
     "name": "stdout",
     "output_type": "stream",
     "text": [
      "64.0 km/h\n",
      "17.7777777778 m/s\n"
     ]
    }
   ],
   "source": [
    "t=0.00  #h\n",
    "n1=t/dt\n",
    "n=int(n1)\n",
    "\n",
    "V_mint=V[n,0]  # km/h\n",
    "\n",
    "\n",
    "for i in range(1,nx):\n",
    "    V1=V[n,i]\n",
    "    V2=V[n,i-1]\n",
    "    if V1>V2:\n",
    "        V_mint=V2\n",
    "\n",
    "V_min= V_mint/3.6\n",
    "print(V_mint,\"km/h\")\n",
    "print(V_min,\"m/s\")\n",
    "\n"
   ]
  },
  {
   "cell_type": "code",
   "execution_count": 9,
   "metadata": {
    "collapsed": false
   },
   "outputs": [
    {
     "name": "stdout",
     "output_type": "stream",
     "text": [
      "20.6016884691 m/s\n"
     ]
    }
   ],
   "source": [
    "t1=3.  #min\n",
    "t=t1/60\n",
    "n1=t/dt\n",
    "n=int(n1)\n",
    "\n",
    "Vmoy= (1/nx)*numpy.sum(V[n,0:]) \n",
    "Vmoy=Vmoy/3.6\n",
    "print(Vmoy, \"m/s\")"
   ]
  },
  {
   "cell_type": "code",
   "execution_count": 10,
   "metadata": {
    "collapsed": false
   },
   "outputs": [
    {
     "name": "stdout",
     "output_type": "stream",
     "text": [
      "76.8\n",
      "67.3457400167 km/h\n",
      "18.7071500046 m/s\n"
     ]
    }
   ],
   "source": [
    "t1=6.  #min\n",
    "t=t1/60\n",
    "n1=t/dt\n",
    "n=int(n1)\n",
    "\n",
    "V_mint=V[n,0]  # km/h\n",
    "print(V_mint)\n",
    "\n",
    "for i in range(1,nx):\n",
    "    V1=V[n,i]\n",
    "    if V1<V_mint:\n",
    "        V_mint=V1\n",
    "\n",
    "V_min= V_mint/3.6\n",
    "print(V_mint,\"km/h\")\n",
    "print(V_min,\"m/s\")\n",
    "\n",
    "\n"
   ]
  },
  {
   "cell_type": "markdown",
   "metadata": {},
   "source": [
    "## Partie B :"
   ]
  },
  {
   "cell_type": "code",
   "execution_count": 11,
   "metadata": {
    "collapsed": false
   },
   "outputs": [
    {
     "data": {
      "text/plain": [
       "125.12"
      ]
     },
     "execution_count": 11,
     "metadata": {},
     "output_type": "execute_result"
    }
   ],
   "source": [
    "V_max=136.    #km/hr\n",
    "\n",
    "L=11.    #km\n",
    "\n",
    "rho_max=250.   #cars/km\n",
    "\n",
    "nx=51\n",
    "\n",
    "dt=.001 #hours\n",
    "\n",
    "T=0.1 #hours\n",
    "nt=int((T/dt) +1)\n",
    "\n",
    "dx=L/(nx-1)\n",
    "\n",
    "rho0t=20.\n",
    "\n",
    "V0t=V_max*(1-rho0t/rho_max)\n",
    "V0t"
   ]
  },
  {
   "cell_type": "code",
   "execution_count": 12,
   "metadata": {
    "collapsed": true
   },
   "outputs": [],
   "source": [
    "x = numpy.linspace(0,L,nx)\n",
    "rhox0 = numpy.ones(nx)*20 ##note this change\n",
    "rhox0[10:20] = 50"
   ]
  },
  {
   "cell_type": "code",
   "execution_count": 13,
   "metadata": {
    "collapsed": false
   },
   "outputs": [
    {
     "name": "stdout",
     "output_type": "stream",
     "text": [
      "[ 125.12  125.12  125.12  125.12  125.12  125.12  125.12  125.12  125.12\n",
      "  125.12  108.8   108.8   108.8   108.8   108.8   108.8   108.8   108.8\n",
      "  108.8   108.8   125.12  125.12  125.12  125.12  125.12  125.12  125.12\n",
      "  125.12  125.12  125.12  125.12  125.12  125.12  125.12  125.12  125.12\n",
      "  125.12  125.12  125.12  125.12  125.12  125.12  125.12  125.12  125.12\n",
      "  125.12  125.12  125.12  125.12  125.12  125.12]\n",
      "108.8\n"
     ]
    },
    {
     "data": {
      "text/plain": [
       "array([[ 125.12      ,  125.12      ,  125.12      , ...,  125.12      ,\n",
       "         125.12      ,  125.12      ],\n",
       "       [ 125.12      ,  125.12      ,  125.12      , ...,  125.12      ,\n",
       "         125.12      ,  125.12      ],\n",
       "       [ 125.12      ,  125.12      ,  125.12      , ...,  125.12      ,\n",
       "         125.12      ,  125.12      ],\n",
       "       ..., \n",
       "       [ 125.12      ,  125.12      ,  125.12      , ...,  125.11253023,\n",
       "         125.10386003,  125.08641067],\n",
       "       [ 125.12      ,  125.12      ,  125.12      , ...,  125.1148859 ,\n",
       "         125.10879037,  125.09633193],\n",
       "       [ 125.12      ,  125.12      ,  125.12      , ...,  125.11651706,\n",
       "         125.11225676,  125.10341605]])"
      ]
     },
     "execution_count": 13,
     "metadata": {},
     "output_type": "execute_result"
    }
   ],
   "source": [
    "V = numpy.zeros((nt,nx))\n",
    "\n",
    "Vx0=V_max*(1-rhox0/rho_max)\n",
    "print(Vx0)\n",
    "\n",
    "\n",
    "for i in range (0,nx):\n",
    "    V[0,i]=Vx0[i]\n",
    "for n in range (0,nt):\n",
    "    V[n,0]=V0t\n",
    "\n",
    "for n in range(1, nt): \n",
    "    Vn = Vx0.copy() \n",
    "    Vx0[1:] = Vn[1:]-Vn[1:]*dt/dx*(Vn[1:]-Vn[0:-1]) \n",
    "    V[n,1:]=Vx0[1:]\n",
    "\n",
    "print(V[0,15])\n",
    "V"
   ]
  },
  {
   "cell_type": "code",
   "execution_count": 14,
   "metadata": {
    "collapsed": false
   },
   "outputs": [
    {
     "data": {
      "image/png": "[encoded data removed]",
      "text/plain": [
       "<matplotlib.figure.Figure at 0x7f25f28>"
      ]
     },
     "metadata": {},
     "output_type": "display_data"
    }
   ],
   "source": [
    "for n in range(0,nt):\n",
    "    pyplot.plot(x, V[n,], color='#003366', ls='--', lw=3)\n",
    "    pyplot.ylim(0,130);"
   ]
  },
  {
   "cell_type": "code",
   "execution_count": 15,
   "metadata": {
    "collapsed": false
   },
   "outputs": [
    {
     "name": "stdout",
     "output_type": "stream",
     "text": [
      "108.8 km/h\n",
      "30.2222222222 m/s\n"
     ]
    }
   ],
   "source": [
    "t=0.00  #h\n",
    "n1=t/dt\n",
    "n=int(n1)\n",
    "\n",
    "V_mint=V[n,0]  # km/h\n",
    "\n",
    "\n",
    "for i in range(1,nx):\n",
    "    V1=V[n,i]\n",
    "    V2=V[n,i-1]\n",
    "    if V1>V2:\n",
    "        V_mint=V2\n",
    "\n",
    "V_min= V_mint/3.6\n",
    "print(V_mint,\"km/h\")\n",
    "print(V_min,\"m/s\")\n"
   ]
  },
  {
   "cell_type": "code",
   "execution_count": 16,
   "metadata": {
    "collapsed": false
   },
   "outputs": [
    {
     "name": "stdout",
     "output_type": "stream",
     "text": [
      "33.8456529779 m/s\n"
     ]
    }
   ],
   "source": [
    "t1=3.  #min\n",
    "t=t1/60\n",
    "n1=t/dt\n",
    "n=int(n1)\n",
    "\n",
    "Vmoy= (1/nx)*numpy.sum(V[n,0:]) \n",
    "Vmoy=Vmoy/3.6\n",
    "print(Vmoy, \"m/s\")"
   ]
  },
  {
   "cell_type": "code",
   "execution_count": 17,
   "metadata": {
    "collapsed": false
   },
   "outputs": [
    {
     "name": "stdout",
     "output_type": "stream",
     "text": [
      "125.12\n",
      "111.121595948 km/h\n",
      "30.8671099856 m/s\n"
     ]
    }
   ],
   "source": [
    "t1=3.  #min\n",
    "t=t1/60\n",
    "n1=t/dt\n",
    "n=int(n1)\n",
    "\n",
    "V_mint=V[n,0]  # km/h\n",
    "print(V_mint)\n",
    "\n",
    "for i in range(1,nx):\n",
    "    V1=V[n,i]\n",
    "    if V1<V_mint:\n",
    "        V_mint=V1\n",
    "\n",
    "V_min= V_mint/3.6\n",
    "print(V_mint,\"km/h\")\n",
    "print(V_min,\"m/s\")\n",
    "\n"
   ]
  }
 ],
 "metadata": {
  "kernelspec": {
   "display_name": "Python 3",
   "language": "python",
   "name": "python3"
  },
  "language_info": {
   "codemirror_mode": {
    "name": "ipython",
    "version": 3
   },
   "file_extension": ".py",
   "mimetype": "text/x-python",
   "name": "python",
   "nbconvert_exporter": "python",
   "pygments_lexer": "ipython3",
   "version": "3.5.1"
  }
 },
 "nbformat": 4,
 "nbformat_minor": 0
}
