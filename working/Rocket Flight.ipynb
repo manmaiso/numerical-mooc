{
 "cells": [
  {
   "cell_type": "markdown",
   "metadata": {},
   "source": [
    "# Rocket flight\n"
   ]
  },
  {
   "cell_type": "code",
   "execution_count": 72,
   "metadata": {
    "collapsed": true
   },
   "outputs": [],
   "source": [
    "#Import\n",
    "from matplotlib import pyplot\n",
    "import numpy\n",
    "import math\n",
    "%matplotlib inline"
   ]
  },
  {
   "cell_type": "markdown",
   "metadata": {},
   "source": [
    "## 1.  Introduction "
   ]
  },
  {
   "cell_type": "markdown",
   "metadata": {},
   "source": [
    "Prenons une fusée de masse $m_s$ avec une masse initiale de carburant $m_p(t=0)=m_{p0}$.\n",
    "\n",
    "Soit $h$ la hauteur de la fusée par rapport au sol et $v$ sa vitesse.  Alors :\n",
    "    \\begin{equation}\n",
    "        \\frac{\\mathrm{d}h}{\\mathrm{d}t}=v.\n",
    "    \\end{equation}\n",
    "    \n",
    "De plus, si nous définissons $v_e$ comme étant la vitesse d'échappement du carburant, nous pouvons exprimer la force résultante qui s'exerce sur la fusée:$$(m_s+m_p)\\frac{\\mathrm{d}v}{\\mathrm{d}t}=-(m_s+m_p)g+\\dot{m_p} v_e - \\frac{1}{2} \\rho v |v| A C_D$$\n",
    "    \n",
    "où $\\dot{m_p}=\\frac{\\mathrm{d}m_p}{\\mathrm{d}t}$, $A$ est l'aire maximale d'une coupe horizontale de la fusée, $\\rho$ la masse volumique de l'air et $C_D$ le coefficient de trainée.\n",
    "\n",
    "Remarquons que la masse du carburant dépend du temps de la manière suivante:$$m_p = m_{p0}-\\int_0^t \\dot{m_p} d\\tau$$ où \n",
    "\\begin{equation}\n",
    "    \\dot{m_p}=\\left\\{ \n",
    "        \\begin{array}{ll}\n",
    "            20 ~ kg/s & \\mbox{si } t \\le 5 \\\\\n",
    "            0 & \\mbox{sinon.}\n",
    "        \\end{array}\n",
    "    \\right.\n",
    "\\end{equation}\n",
    "    \n",
    "Nous allons déterminer la hauteur et la vitesse de la fusée toutes les $0,1~s$.  Pour celà nous allons utiliser la methode d'Euler qui nous propose l'itération suivante:\n",
    "\\begin{equation}\n",
    "    u_{n+1}=u_n+\\Delta t . f(u_n)\n",
    "\\end{equation}\n",
    "    \n",
    "où la fonction $f$ décrit la variation de $u_i$ en fonction de $u_i$ dans le temps.  Dans notre cas, nous appliquons cette méthode à la hauteur et à la vitesse (en même temps puisqu'ils sont reliés):\n",
    "\\begin{equation}\n",
    "    \\left\\{\n",
    "        \\begin{array}{ll}\n",
    "            h_{n+1}=h_n + \\mathrm{d}t~ \\frac{\\mathrm{d}h}{\\mathrm{d}t}\\\\\n",
    "            v_{n+1}=v_n+ \\mathrm{d}t~ \\frac{\\mathrm{d}v}{\\mathrm{d}t}\n",
    "        \\end{array}\n",
    "    \\right. \\\\\n",
    "\\end{equation}\n",
    "\\begin{equation}    \n",
    "    \\Leftrightarrow ~ \\left\\{\n",
    "        \\begin{array}{ll}\n",
    "            h_{n+1}=h_n + \\mathrm{d}t~ v\\\\\n",
    "            v_{n+1}=v_n+ \\mathrm{d}t~ \\big(-g+(\\dot{m_p}v_e - \\frac{1}{2} \\rho v |v| A C_D)(m_s+m_p)^{-1}\\big)\n",
    "        \\end{array}\n",
    "    \\right.\n",
    "\\end{equation}\n",
    "\n",
    "Dans le code, ces deux données seront regroupéed dans un vecteur $u_n$."
   ]
  },
  {
   "cell_type": "markdown",
   "metadata": {},
   "source": [
    "## 2. Code"
   ]
  },
  {
   "cell_type": "markdown",
   "metadata": {},
   "source": [
    "### Données :"
   ]
  },
  {
   "cell_type": "code",
   "execution_count": 73,
   "metadata": {
    "collapsed": false
   },
   "outputs": [],
   "source": [
    "m_s = 50.0 # Masse de la fusée en kg\n",
    "g = 9.81 # Accélération de la pesanteur en m/s\n",
    "rho = 1.091 # Densité de l'air en kg/m³\n",
    "r = 0.5  # Rayon maximal d'une coupe horizontale de la fusée en m\n",
    "A = (numpy.pi)*(r**2) # Surface maximale d'une section de la fusée avec un rayon de 0.5 m\n",
    "v_e = 325.0 # Vitesse d'échappement du carburant en m/s\n",
    "C_D = 0.15 # Coefficient de trainée\n",
    "m_p0 = 100.0 # Masse du carburant au temps t = 0\n",
    "h0 = 0.0 # Hauteur de la fusée au temps t = 0 en m\n",
    "v0 = 0.0 # Vitesse de la fusée au temps t = 0 en m/s\n",
    "m_p_point_init = 20.0 # Valeur absolue de la dérivée dans le temps de la masse du carburant au temps t = 0 en kg/s\n",
    "end = 4.9 # Dernier instant pour lequel il y a du carburant à dt près en s (Remarque: Si end = 5, à l'itération qui nous donnera v_point à l'instant end+dt (=5,1s) nous ajouterions une vitesse due à la consomation de carburant alors qu'il n'y en à plus)"
   ]
  },
  {
   "cell_type": "markdown",
   "metadata": {},
   "source": [
    "Définissons les fonctions (dépendantes du temps) utilisées pour décrire $\\frac{\\mathrm{d}v}{\\mathrm{d}t}$, à savoir $\\dot{m_p}$ et $m_p$."
   ]
  },
  {
   "cell_type": "code",
   "execution_count": 74,
   "metadata": {
    "collapsed": false
   },
   "outputs": [],
   "source": [
    "def m_p_point(t) :\n",
    "    \"\"\"\n",
    "    m_p_point correspond à la dérivée de m_p par rapport au temps\n",
    "    Quand t < 5, m_p_point vaut 20.\n",
    "    Quand t > 5, m_p_point vaut 0.\n",
    "    \"\"\"\n",
    "    if t < end :\n",
    "        m_p_point = m_p_point_init          \n",
    "    else :\n",
    "        m_p_point = 0\n",
    "    return m_p_point\n",
    "\n",
    "def integrale(t) :\n",
    "    \"\"\"\n",
    "    Quand t < 5, l'intégrale de 0 à t vaut 20*t.\n",
    "    Quand t > 5, l'intégrale de 0 à t vaut l'intégrale de 0 à 5 car l'intégrale de 5 à t est nul puisque m_p_point vaut 0.\n",
    "    \"\"\"\n",
    "    if t < end :\n",
    "        integrale = m_p_point(t)*t\n",
    "    else :\n",
    "        integrale = m_p_point_init*5\n",
    "    return integrale\n",
    "\n",
    "def m_p(t) :\n",
    "    return m_p0 - integrale(t)\n"
   ]
  },
  {
   "cell_type": "markdown",
   "metadata": {},
   "source": [
    "*Réponse 1:*"
   ]
  },
  {
   "cell_type": "code",
   "execution_count": 75,
   "metadata": {
    "collapsed": false
   },
   "outputs": [
    {
     "name": "stdout",
     "output_type": "stream",
     "text": [
      "Après 3.2 secondes, la fusée ne possède plus que 36.0 kg de carburant\n"
     ]
    }
   ],
   "source": [
    "print (\"Après 3.2 secondes, la fusée ne possède plus que\", m_p(3.2), \"kg de carburant\")"
   ]
  },
  {
   "cell_type": "markdown",
   "metadata": {},
   "source": [
    "Préparons-nous à faire nos itérations."
   ]
  },
  {
   "cell_type": "code",
   "execution_count": 76,
   "metadata": {
    "collapsed": false
   },
   "outputs": [],
   "source": [
    "T = 40.0 # Temps maximal pour lequel on va chercher h et v en s\n",
    "dt = 0.1 # Intervalle de temps entre chaque valeur cherchée en s\n",
    "N = int(T/dt)+1  # Nombre de valeurs que nous allons chercher pour u = (h,v)\n",
    "t = numpy.linspace(0.0, T, N)  # Toutes les valeurs t[n] que prend t selon u_n = (h_n,v_n)\n",
    "u = numpy.empty((N, 2))  # On crée un vecteur u de N*2 éléments que l'on va remplir de u_n = (h_n,v_n)\n",
    "u[0] = numpy.array([h0, v0])  \n",
    "t0 = 0  # Temps initial en s"
   ]
  },
  {
   "cell_type": "markdown",
   "metadata": {},
   "source": [
    "Définissons $f(u,t)=\\frac{\\mathrm{d}u}{\\mathrm{d}t}$ où $u=(h,v)$ grâce à\n",
    "\\begin{equation}\n",
    "    \\frac{\\mathrm{d}v}{\\mathrm{d}t}=\\big(-g+\\frac{\\dot{m_p}v_e - \\frac{1}{2} \\rho v |v| A C_D}{m_s+m_p}\\big)\n",
    "\\end{equation}\n",
    "et\n",
    "\\begin{equation}\n",
    "    \\frac{\\mathrm{d}h}{\\mathrm{d}t}=v.\n",
    "\\end{equation}"
   ]
  },
  {
   "cell_type": "code",
   "execution_count": 77,
   "metadata": {
    "collapsed": true
   },
   "outputs": [],
   "source": [
    "def f(u,t) :\n",
    "    \"\"\"\n",
    "    La fonction qui décrit la variation de u_i à chaque instant t[i]\n",
    "    \"\"\"\n",
    "    h = u[0]\n",
    "    v = u[1]\n",
    "    v_point = -g + ((m_p_point(t)*v_e)/(m_s + m_p(t))) - ((rho*v*abs(v)*A*C_D)/(2.0*(m_s + m_p(t))))\n",
    "    return numpy.array([v, v_point])"
   ]
  },
  {
   "cell_type": "markdown",
   "metadata": {},
   "source": [
    "Methode d'Euler:\n",
    "\\begin{equation}\n",
    "    u_{n+1}=u_n+\\Delta t * f(u_n)\n",
    "\\end{equation}"
   ]
  },
  {
   "cell_type": "code",
   "execution_count": 78,
   "metadata": {
    "collapsed": true
   },
   "outputs": [],
   "source": [
    "def euler_step(u, f, t) :\n",
    "    \"\"\"\n",
    "    L'itération de la méthode d'Euler prenant u_n et retournant u_{n+1}\n",
    "    \"\"\"\n",
    "    return u + dt*f(u, t)"
   ]
  },
  {
   "cell_type": "code",
   "execution_count": 79,
   "metadata": {
    "collapsed": false
   },
   "outputs": [],
   "source": [
    "for n in range(N-1) :\n",
    "    u[n+1] = euler_step(u[n], f, t0)  # Dans notre vecteur (de vecteur) u défini trois cellules plus haut, on place les valeurs de u_{n+1} définies grâce à la methode d'Euler.\n",
    "    t0 = t0 + dt"
   ]
  },
  {
   "cell_type": "markdown",
   "metadata": {},
   "source": [
    "À présent, nous avons trouvé nos valeurs."
   ]
  },
  {
   "cell_type": "markdown",
   "metadata": {},
   "source": [
    "*Réponse 2:*"
   ]
  },
  {
   "cell_type": "code",
   "execution_count": 80,
   "metadata": {
    "collapsed": false
   },
   "outputs": [
    {
     "name": "stdout",
     "output_type": "stream",
     "text": [
      "La vitesse maximale de la fusée est de 232.106133413 m/s. Elle atteint cette vitesse en 5.0 secondes et son altitude à cet instant est de 523.522834292 m.\n"
     ]
    }
   ],
   "source": [
    "v_max = 0 # Vitesse maximale de la fusée \n",
    "h_v_max = 0 # Hauteur pour laquelle la vitesse de la fusée est maximale\n",
    "i = 0\n",
    "for vect in u :\n",
    "    while vect[1] > v_max :\n",
    "        v_max = vect[1]\n",
    "        h_v_max = vect[0]\n",
    "        i = i+1\n",
    "temps = i*dt \n",
    "\n",
    "print (\"La vitesse maximale de la fusée est de\", v_max , \"m/s. Elle atteint cette vitesse en\", temps, \"secondes et son altitude à cet instant est de\", h_v_max , \"m.\")"
   ]
  },
  {
   "cell_type": "markdown",
   "metadata": {},
   "source": [
    "*Réponse 3:*"
   ]
  },
  {
   "cell_type": "code",
   "execution_count": 81,
   "metadata": {
    "collapsed": false
   },
   "outputs": [
    {
     "name": "stdout",
     "output_type": "stream",
     "text": [
      "La hauteur maximale de la fusée lors de son vol est de 1334.18294543 m. Elle atteint cette hauteur en 15.600000000000001 secondes.\n"
     ]
    }
   ],
   "source": [
    "h_max = 0 # Hauteur maximal de la fusée lors de son vol\n",
    "i = 0\n",
    "for vect in u :\n",
    "    while vect[0] > h_max :\n",
    "        h_max = vect[0]\n",
    "        i = i+1\n",
    "temps = i*dt\n",
    "print (\"La hauteur maximale de la fusée lors de son vol est de\", h_max, \"m. Elle atteint cette hauteur en\", temps, \"secondes.\")"
   ]
  },
  {
   "cell_type": "markdown",
   "metadata": {},
   "source": [
    "*Réponse 4:*"
   ]
  },
  {
   "cell_type": "markdown",
   "metadata": {},
   "source": [
    "Pour répondre à cette question nous avons utilisé le fait que quand la hauteur (u[0]) est positive, la fusée n'a pas encore percuté le sol et quand elle est négative la fusée est \"en dessous du sol\" et donc, physiquement, l'impact a eu lieu."
   ]
  },
  {
   "cell_type": "code",
   "execution_count": 82,
   "metadata": {
    "collapsed": false
   },
   "outputs": [
    {
     "name": "stdout",
     "output_type": "stream",
     "text": [
      "Après 37.2 secondes de vol, l'impact de la fusée avec le sol a lieu. A cet instant la fusée possède une vitesse de [-86.00683498] m/s.\n"
     ]
    }
   ],
   "source": [
    "v_imp = numpy.empty((30, 1))  #on cré un tableau (à proprement parlé \"array\"=vecteur) pour rangé tout le u[1] après l'impact au sol\n",
    "i = 0\n",
    "j = 1\n",
    "for vect in u :\n",
    "    if vect[0] == abs(vect[0]) :  \n",
    "        j = j+1\n",
    "    else :\n",
    "        v_imp[i] = vect[1]\n",
    "        i = i+1\n",
    "temps = j*dt    \n",
    "print(\"Après\", temps, \"secondes de vol, l'impact de la fusée avec le sol a lieu. A cet instant la fusée possède une vitesse de\", v_imp[0], \"m/s.\")"
   ]
  }
 ],
 "metadata": {
  "kernelspec": {
   "display_name": "Python 3",
   "language": "python",
   "name": "python3"
  },
  "language_info": {
   "codemirror_mode": {
    "name": "ipython",
    "version": 3
   },
   "file_extension": ".py",
   "mimetype": "text/x-python",
   "name": "python",
   "nbconvert_exporter": "python",
   "pygments_lexer": "ipython3",
   "version": "3.5.1"
  }
 },
 "nbformat": 4,
 "nbformat_minor": 0
}
